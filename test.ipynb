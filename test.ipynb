{
 "cells": [
  {
   "cell_type": "code",
   "execution_count": null,
   "metadata": {},
   "outputs": [],
   "source": [
    "from matplotlib import pyplot as plt\n",
    "import numpy as np\n",
    "\n",
    "def f(x:np.ndarray) -> np.ndarray:\n",
    "    return np.power(x, 3)\n",
    "\n",
    "x = np.linspace(-4,4,100)\n",
    "y = f(x)\n",
    "x_hat = np.random.choice(x, 50)\n",
    "eps = np.random.normal(0, 0.5, 50)\n",
    "y_hat = f(x_hat) + f(x_hat) * eps\n",
    "plt.plot(x,y)\n",
    "plt.scatter(x_hat,y_hat)\n",
    "plt.show()\n"
   ]
  },
  {
   "cell_type": "code",
   "execution_count": null,
   "metadata": {},
   "outputs": [],
   "source": [
    "from sklearn import datasets\n",
    "\n",
    "diabetes = datasets.load_diabetes()\n",
    "# diabetes\n",
    "plt.plot(diabetes.data[:,2], diabetes.target, 'o')"
   ]
  },
  {
   "cell_type": "code",
   "execution_count": null,
   "metadata": {},
   "outputs": [],
   "source": [
    "# https://www.kaggle.com/code/dipuk0506/toy-dataset-for-regression-and-uq#Dataset2:\n",
    "import math\n",
    "\n",
    "N_train = 1128\n",
    "\n",
    "Noise_Mag = .7\n",
    "figure_size = (6, 6)\n",
    "\n",
    "N = N_train\n",
    "X1 = np.arange(0, 2*math.pi, 2*math.pi/N) # Range = 0 to 2*pi\n",
    "X2 = np.arange(0, 5*math.pi, 5*math.pi/N) # Range = 0 to 2*pi\n",
    "y = np.sin(2*X1)+ Noise_Mag*(np.random.rand(N))*np.sin(2*X2 + math.pi/4)\n",
    "# y = np.sin(2*X1)+ Noise_Mag*np.sin(2*X2 + math.pi/4)\n",
    "# y = np.sin(2*X1) + Noise_Mag*np.sin(2*X2) + np.random.normal(0, 0.05, N)\n",
    "\n",
    "plt.figure(figsize=figure_size) \n",
    "plt.title('Target vs X1')\n",
    "# plt.scatter(X1, y, color='k',s=.2)\n",
    "plt.plot(X1, y, color='k')\n",
    "plt.show()"
   ]
  },
  {
   "cell_type": "code",
   "execution_count": null,
   "metadata": {},
   "outputs": [],
   "source": [
    "(np.pi / 4) * 180 / np.pi"
   ]
  },
  {
   "cell_type": "code",
   "execution_count": null,
   "metadata": {},
   "outputs": [],
   "source": [
    "from abc import ABC, abstractmethod\n",
    "from torch.utils.data import Dataset\n",
    "\n",
    "class SyntheticDataset(Dataset, ABC):\n",
    "    def __init__(self, n_samples:int, noise:float = .6) -> None:\n",
    "        '''\n",
    "            Parameters:\n",
    "            -----------\n",
    "                n_samples: int\n",
    "                    Number of samples to generate\n",
    "                \n",
    "                noise: float\n",
    "                    Noise magnitude\n",
    "        '''\n",
    "        super(SyntheticDataset, self).__init__()\n",
    "        self.n_samples = n_samples\n",
    "        self.noise = noise\n",
    "        self.X, self.y = None, None\n",
    "\n",
    "    @abstractmethod\n",
    "    def generate_dataset(self) -> None:\n",
    "        pass\n",
    "    \n",
    "\n",
    "class SyntheticDataset1(SyntheticDataset):\n",
    "    '''\n",
    "        Sinousoidal dataset with two frequencies. \n",
    "\n",
    "        La segunda variable determina la dirección y la magnitud de la incertidumbre\n",
    "    ''' \n",
    "    def __init__(self, n_samples:int, noise:float = .6) -> None:\n",
    "        super(SyntheticDataset1, self).__init__(n_samples, noise)\n",
    "        self.generate_dataset()\n",
    "\n",
    "    def generate_dataset(self) -> None:\n",
    "        self.X = np.arange(0, 2*np.pi, 2*np.pi/self.n_samples)    \n",
    "\n",
    "        # Determines direction and magnitude of Uncertainty\n",
    "        noise_signal = np.arange(0, 5*np.pi, 5*np.pi/self.n_samples)\n",
    "        epsilon = np.random.rand(self.n_samples)\n",
    "\n",
    "        print(self.X.shape, noise_signal.shape, epsilon.shape)\n",
    "        self.y = np.sin(2*self.X) + (np.sin(2*noise_signal + np.pi/4) * (self.noise*epsilon))"
   ]
  },
  {
   "cell_type": "code",
   "execution_count": null,
   "metadata": {},
   "outputs": [],
   "source": [
    "dataset = SyntheticDataset1(2000)\n",
    "\n",
    "plt.scatter(dataset.X, dataset.y, s=1)\n",
    "plt.show()"
   ]
  },
  {
   "cell_type": "code",
   "execution_count": null,
   "metadata": {},
   "outputs": [],
   "source": [
    "plt.plot(np.log(np.arange(0.01, 1, 1/100)))"
   ]
  }
 ],
 "metadata": {
  "kernelspec": {
   "display_name": "DeepLearning",
   "language": "python",
   "name": "python3"
  },
  "language_info": {
   "codemirror_mode": {
    "name": "ipython",
    "version": 3
   },
   "file_extension": ".py",
   "mimetype": "text/x-python",
   "name": "python",
   "nbconvert_exporter": "python",
   "pygments_lexer": "ipython3",
   "version": "3.10.14"
  }
 },
 "nbformat": 4,
 "nbformat_minor": 2
}
