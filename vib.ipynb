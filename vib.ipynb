{
 "cells": [
  {
   "cell_type": "code",
   "execution_count": 1,
   "metadata": {},
   "outputs": [],
   "source": [
    "import config\n",
    "import torch\n",
    "import numpy as np\n",
    "import matplotlib\n",
    "\n",
    "from torch import tensor\n",
    "from variational.nn import IsotropicGaussian, Sequential"
   ]
  },
  {
   "cell_type": "code",
   "execution_count": 8,
   "metadata": {},
   "outputs": [
    {
     "name": "stdout",
     "output_type": "stream",
     "text": [
      "2\n"
     ]
    }
   ],
   "source": [
    "from torch import nn\n",
    "\n",
    "toyModel = Sequential(\n",
    "        nn.Linear(10, 16),\n",
    "        nn.ReLU(),\n",
    "        IsotropicGaussian(16, 2)\n",
    "    )\n",
    "\n",
    "x = torch.randn(3, 10, dtype=torch.float32)\n",
    "toyModel(x, 2)\n",
    "\n",
    "mu, sigma = toyModel[2].mu, toyModel[2].sigma"
   ]
  },
  {
   "cell_type": "code",
   "execution_count": 11,
   "metadata": {},
   "outputs": [],
   "source": [
    "from matplotlib import pyplot\n",
    "\n",
    "model = nn.Sequential(\n",
    "    nn.Linear(1, 8),\n",
    "    nn.ReLU(),\n",
    "    nn.Linear(8, 16),\n",
    "    nn.ReLU(),\n",
    "    IsotropicGaussian(16, 2),\n",
    "    nn.Linear(2, 1),\n",
    "    nn.Tanh()\n",
    ")\n",
    "\n",
    "import torch\n",
    "from torch import nn, optim\n",
    "x = torch.arange(0, 2*np.pi, 2*np.pi/1000, dtype=torch.float32)\n",
    "y = torch.sin(2*x) + torch.normal(0, .01, (1000, 1), dtype=torch.float32).flatten()\n",
    "\n",
    "# Normalize\n",
    "x = (x - x.mean()) / x.std()\n",
    "\n",
    "dataset = torch.utils.data.TensorDataset(x, y)\n",
    "dataloader = torch.utils.data.DataLoader(dataset, batch_size=32)\n",
    "\n",
    "# optimizer = optim.Adam(model.parameters(), lr=1e-3)\n",
    "# loss_fn = nn.MSELoss()\n",
    "\n",
    "# for epoch in range(1000):\n",
    "#     for batch_x, batch_y in dataloader:\n",
    "#         optimizer.zero_grad()\n",
    "#         y_hat = model(batch_x.reshape(-1,1).float())\n",
    "#         loss = loss_fn(y_hat, batch_y)\n",
    "#         loss.backward()\n",
    "#         optimizer.step()\n",
    "\n",
    "#     if epoch % 100 == 0:\n",
    "#         print(f'Epoch {epoch}: {loss.item()}')\n",
    "\n",
    "# plt.plot(x, y)\n",
    "# plt.plot(x, model(x.reshape(-1,1).float()).detach().numpy())\n",
    "# plt.show()"
   ]
  }
 ],
 "metadata": {
  "kernelspec": {
   "display_name": "DeepLearning",
   "language": "python",
   "name": "python3"
  },
  "language_info": {
   "codemirror_mode": {
    "name": "ipython",
    "version": 3
   },
   "file_extension": ".py",
   "mimetype": "text/x-python",
   "name": "python",
   "nbconvert_exporter": "python",
   "pygments_lexer": "ipython3",
   "version": "3.11.9"
  }
 },
 "nbformat": 4,
 "nbformat_minor": 2
}
