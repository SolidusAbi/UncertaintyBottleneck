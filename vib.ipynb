{
 "cells": [
  {
   "cell_type": "code",
   "execution_count": null,
   "metadata": {},
   "outputs": [],
   "source": [
    "import config\n",
    "import torch\n",
    "import numpy as np\n",
    "import matplotlib\n",
    "\n",
    "from torch import tensor\n",
    "from variational.nn import IsotropicGaussian, Sequential"
   ]
  },
  {
   "cell_type": "code",
   "execution_count": null,
   "metadata": {},
   "outputs": [],
   "source": [
    "from torch import nn\n",
    "import variational.nn as vnn \n",
    "\n",
    "class ToyModel(nn.Module):\n",
    "    def __init__(self):\n",
    "        super(ToyModel, self).__init__()\n",
    "        self.encode = vnn.Sequential(\n",
    "            nn.Linear(1, 12),\n",
    "            nn.ReLU(),\n",
    "            nn.Linear(12, 24),\n",
    "            nn.ReLU(),\n",
    "            nn.Linear(24, 12),\n",
    "            nn.ReLU(),\n",
    "            IsotropicGaussian(12, 1)\n",
    "        )\n",
    "\n",
    "        self.decode= nn.Linear(1, 1)\n",
    "\n",
    "    def forward(self, x, n_samples):\n",
    "        y = self.encode(x, n_samples)\n",
    "        return self.decode(y).mean(0)\n",
    "    \n",
    "\n",
    "\n",
    "toyModel = ToyModel()\n",
    "\n",
    "x = torch.randn(3, 1, dtype=torch.float32)\n",
    "y = toyModel(x, 2)\n",
    "\n",
    "mu, sigma = toyModel.encode[6].mu, toyModel.encode[6].sigma\n",
    "print(y.shape, mu, sigma)"
   ]
  },
  {
   "cell_type": "code",
   "execution_count": null,
   "metadata": {},
   "outputs": [],
   "source": [
    "from dataset import SyntheticDataset1\n",
    "\n",
    "dataset = SyntheticDataset1(1000)\n",
    "dataset.X.shape, dataset.y.shape\n",
    "\n",
    "from matplotlib import pyplot as plt\n",
    "fig, ax = plt.figure(figsize=(5,3)), plt.axes()\n",
    "ax.scatter(dataset.X, dataset.y, c=dataset.y, s=12)\n",
    "plt.show()"
   ]
  },
  {
   "cell_type": "code",
   "execution_count": null,
   "metadata": {},
   "outputs": [],
   "source": [
    "from torch.nn.functional import mse_loss\n",
    "from torch.optim import Adam\n",
    "from torch.utils.data import DataLoader\n",
    "from variational.loss import SGVBL\n",
    "\n",
    "model = ToyModel()\n",
    "optimizer = Adam(model.parameters(), lr=1e-3)\n",
    "loss = SGVBL(model, 1, mle=mse_loss)\n",
    "dataloader = DataLoader(dataset, batch_size=32, shuffle=True)\n",
    "\n",
    "for epoch in range(1000):\n",
    "    for x, y in dataloader:\n",
    "        optimizer.zero_grad()\n",
    "        y_hat = model(x, 10)\n",
    "        l = loss(y_hat, y, 1e-3)\n",
    "        l.backward()\n",
    "        optimizer.step()\n",
    "    print(f'Epoch {epoch}: {l.item()}')\n",
    "\n"
   ]
  },
  {
   "cell_type": "code",
   "execution_count": null,
   "metadata": {},
   "outputs": [],
   "source": [
    "\n",
    "encode = toyModel.encode\n",
    "_ = encode(dataset.X)\n",
    "mu, std = encode[6].mu.detach().numpy(), encode[6].sigma.detach().numpy()\n",
    "\n",
    "fig, ax = plt.subplots(1, 2, figsize=(5,3))\n",
    "ax[0].scatter(dataset.X, dataset.y, c=dataset.y, s=12)\n",
    "ax[1].scatter(dataset.X.ravel(), mu.ravel())\n",
    "plt.show()"
   ]
  },
  {
   "cell_type": "code",
   "execution_count": null,
   "metadata": {},
   "outputs": [],
   "source": []
  }
 ],
 "metadata": {
  "kernelspec": {
   "display_name": "DeepLearning",
   "language": "python",
   "name": "python3"
  },
  "language_info": {
   "codemirror_mode": {
    "name": "ipython",
    "version": 3
   },
   "file_extension": ".py",
   "mimetype": "text/x-python",
   "name": "python",
   "nbconvert_exporter": "python",
   "pygments_lexer": "ipython3",
   "version": "3.10.14"
  }
 },
 "nbformat": 4,
 "nbformat_minor": 2
}
